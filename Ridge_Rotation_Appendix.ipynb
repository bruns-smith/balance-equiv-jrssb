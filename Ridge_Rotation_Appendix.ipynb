{
 "cells": [
  {
   "cell_type": "code",
   "execution_count": null,
   "id": "36626590",
   "metadata": {},
   "outputs": [],
   "source": [
    "import numpy as np\n",
    "import pandas as pd\n",
    "\n",
    "from sklearn.linear_model import Ridge, Lasso\n",
    "\n",
    "import cvxpy as cp"
   ]
  },
  {
   "cell_type": "markdown",
   "id": "f9ce97fd",
   "metadata": {},
   "source": [
    "# Sanity check for rotation results. Code for Table E.1."
   ]
  },
  {
   "cell_type": "code",
   "execution_count": null,
   "id": "27a026c9",
   "metadata": {},
   "outputs": [],
   "source": [
    "X = pd.read_csv('./data/nsv_psid_X.csv', index_col=0)\n",
    "T = pd.read_csv('./data/nsv_psid_T.csv', index_col=0)\n",
    "Y = pd.read_csv('./data/nsv_psid_Y.csv', index_col=0)"
   ]
  },
  {
   "cell_type": "code",
   "execution_count": null,
   "id": "da6938b4",
   "metadata": {},
   "outputs": [],
   "source": [
    "Y = np.array(Y).reshape(-1)\n",
    "T = np.array(T).reshape(-1)\n",
    "X = np.array(X)"
   ]
  },
  {
   "cell_type": "markdown",
   "id": "cf23cf9c",
   "metadata": {},
   "source": [
    "### separate control and treated groups"
   ]
  },
  {
   "cell_type": "code",
   "execution_count": 4,
   "id": "2a9d224c",
   "metadata": {},
   "outputs": [],
   "source": [
    "Xp = X[T==0]\n",
    "Xq = X[T==1]\n",
    "\n",
    "yp = Y[T==0]"
   ]
  },
  {
   "cell_type": "code",
   "execution_count": 5,
   "id": "f1f8610d",
   "metadata": {},
   "outputs": [],
   "source": [
    "Xpc = Xp - Xp.mean(axis=0)\n",
    "ypc = yp - yp.mean()"
   ]
  },
  {
   "cell_type": "code",
   "execution_count": 6,
   "id": "b8702707",
   "metadata": {},
   "outputs": [],
   "source": [
    "Xqc = (Xq - Xp.mean(axis=0))\n",
    "Xqb = Xqc.mean(axis=0)"
   ]
  },
  {
   "cell_type": "code",
   "execution_count": 7,
   "id": "1f74068e",
   "metadata": {},
   "outputs": [],
   "source": [
    "lam = 80"
   ]
  },
  {
   "cell_type": "code",
   "execution_count": 8,
   "id": "ba90beda",
   "metadata": {},
   "outputs": [],
   "source": [
    "betahat = Ridge(alpha=lam, fit_intercept=False).fit(Xpc,ypc).coef_"
   ]
  },
  {
   "cell_type": "code",
   "execution_count": null,
   "id": "c09b40b0",
   "metadata": {},
   "outputs": [],
   "source": [
    "def ell2(delta,Xp,Xq):\n",
    "\n",
    "    N=Xp.shape[0]\n",
    "    M=Xp.shape[1]\n",
    "\n",
    "    rho = cp.Variable(M)\n",
    "    w = Xp@rho\n",
    "\n",
    "    prob = cp.Problem(cp.Minimize( cp.sum_squares(w) - 2*rho@Xq + delta*cp.sum_squares(rho) ))\n",
    "    \n",
    "    optimal_value = prob.solve()\n",
    "    return(rho.value)"
   ]
  },
  {
   "cell_type": "code",
   "execution_count": null,
   "id": "0486f06c",
   "metadata": {},
   "outputs": [],
   "source": [
    "delta = 10\n",
    "rhohat = ell2(delta, Xpc, Xqb)\n",
    "what = Xpc@rhohat\n",
    "qhat = what@Xpc\n",
    "beta_ols = np.linalg.pinv(Xpc.T@Xpc)@Xpc.T@ypc\n",
    "aug_point = Xqb@betahat + what@(ypc-Xpc@betahat)"
   ]
  },
  {
   "cell_type": "code",
   "execution_count": null,
   "id": "83509774",
   "metadata": {},
   "outputs": [],
   "source": [
    "# PROPER beta aug\n",
    "d = Xpc.shape[1]\n",
    "A = np.linalg.inv(Xpc.T@Xpc + delta*np.eye(d)) @ (Xpc.T@Xpc)\n",
    "beta_aug_proper = A@beta_ols + (np.eye(d) - A)@betahat\n",
    "# IMPROPER beta aug\n",
    "a = qhat/Xqb\n",
    "beta_aug_improper = a*beta_ols + (1-a)*betahat"
   ]
  },
  {
   "cell_type": "markdown",
   "id": "2224c151",
   "metadata": {},
   "source": [
    "#### now compute rotated version"
   ]
  },
  {
   "cell_type": "code",
   "execution_count": 25,
   "id": "0a65db0f",
   "metadata": {},
   "outputs": [],
   "source": [
    "evls,evec = np.linalg.eigh(Xpc.T@Xpc)"
   ]
  },
  {
   "cell_type": "code",
   "execution_count": 26,
   "id": "ff5dbeea",
   "metadata": {},
   "outputs": [],
   "source": [
    "qhat_rotated = what@(Xpc@evec)\n",
    "\n",
    "Xqb_rotated = Xqb@evec\n",
    "\n",
    "a_rotated = qhat_rotated/Xqb_rotated"
   ]
  },
  {
   "cell_type": "code",
   "execution_count": 27,
   "id": "f249d7c3",
   "metadata": {},
   "outputs": [],
   "source": [
    "beta_aug_rotated = evec@(a_rotated* (evec.T@beta_ols) + (1-a_rotated) *(evec.T@betahat))"
   ]
  },
  {
   "cell_type": "code",
   "execution_count": 29,
   "id": "79205861",
   "metadata": {},
   "outputs": [
    {
     "data": {
      "text/plain": [
       "18615.761538449882"
      ]
     },
     "execution_count": 29,
     "metadata": {},
     "output_type": "execute_result"
    }
   ],
   "source": [
    "np.linalg.norm(beta_aug_rotated)"
   ]
  },
  {
   "cell_type": "code",
   "execution_count": 30,
   "id": "bb8f75b9",
   "metadata": {},
   "outputs": [
    {
     "data": {
      "text/plain": [
       "18615.761097176397"
      ]
     },
     "execution_count": 30,
     "metadata": {},
     "output_type": "execute_result"
    }
   ],
   "source": [
    "np.linalg.norm(beta_aug_proper)"
   ]
  },
  {
   "cell_type": "code",
   "execution_count": 31,
   "id": "9437845f",
   "metadata": {},
   "outputs": [
    {
     "data": {
      "text/plain": [
       "44698074.06257617"
      ]
     },
     "execution_count": 31,
     "metadata": {},
     "output_type": "execute_result"
    }
   ],
   "source": [
    "np.linalg.norm(beta_ols)"
   ]
  },
  {
   "cell_type": "code",
   "execution_count": 32,
   "id": "96f7141f",
   "metadata": {},
   "outputs": [
    {
     "data": {
      "text/plain": [
       "45860522.93505297"
      ]
     },
     "execution_count": 32,
     "metadata": {},
     "output_type": "execute_result"
    }
   ],
   "source": [
    "np.linalg.norm(beta_aug_improper)"
   ]
  },
  {
   "cell_type": "code",
   "execution_count": 35,
   "id": "f29ac7eb",
   "metadata": {},
   "outputs": [],
   "source": [
    "D = np.diag(evls)"
   ]
  },
  {
   "cell_type": "code",
   "execution_count": 46,
   "id": "df19557a",
   "metadata": {},
   "outputs": [],
   "source": [
    "a_theory = evls/(evls+delta)"
   ]
  },
  {
   "cell_type": "markdown",
   "id": "3d6d8a16",
   "metadata": {},
   "source": [
    "# Very quick sanity check with non-ridge outcome model"
   ]
  },
  {
   "cell_type": "code",
   "execution_count": null,
   "id": "673609fa",
   "metadata": {},
   "outputs": [],
   "source": [
    "beta_lasso = Lasso(alpha=80, fit_intercept=False).fit(Xpc, ypc).coef_\n",
    "beta_aug_proper_lasso = A@beta_ols + (np.eye(d) - A)@beta_lasso\n",
    "beta_aug_proper_rerot = A@beta_ols + (np.eye(d) - A)@evec@evec.T@beta_lasso\n",
    "beta_aug_rot_lasso = evec@(a_theory*(evec.T@beta_ols) + (1-a_theory)*(evec.T@beta_lasso))"
   ]
  },
  {
   "cell_type": "code",
   "execution_count": 61,
   "id": "577748f2",
   "metadata": {},
   "outputs": [
    {
     "data": {
      "text/plain": [
       "12429.748270392154"
      ]
     },
     "execution_count": 61,
     "metadata": {},
     "output_type": "execute_result"
    }
   ],
   "source": [
    "np.linalg.norm(beta_lasso)"
   ]
  },
  {
   "cell_type": "code",
   "execution_count": 62,
   "id": "264a4043",
   "metadata": {},
   "outputs": [
    {
     "data": {
      "text/plain": [
       "20911.724802910263"
      ]
     },
     "execution_count": 62,
     "metadata": {},
     "output_type": "execute_result"
    }
   ],
   "source": [
    "np.linalg.norm(beta_aug_proper_lasso)"
   ]
  },
  {
   "cell_type": "code",
   "execution_count": 64,
   "id": "d16ce4ef",
   "metadata": {},
   "outputs": [
    {
     "data": {
      "text/plain": [
       "20911.72480291026"
      ]
     },
     "execution_count": 64,
     "metadata": {},
     "output_type": "execute_result"
    }
   ],
   "source": [
    "np.linalg.norm(beta_aug_proper_rerot)"
   ]
  },
  {
   "cell_type": "code",
   "execution_count": 66,
   "id": "7c0e1550",
   "metadata": {},
   "outputs": [
    {
     "data": {
      "text/plain": [
       "20911.72480284092"
      ]
     },
     "execution_count": 66,
     "metadata": {},
     "output_type": "execute_result"
    }
   ],
   "source": [
    "np.linalg.norm(beta_aug_rot_lasso)"
   ]
  },
  {
   "cell_type": "code",
   "execution_count": 68,
   "id": "bb986737",
   "metadata": {},
   "outputs": [
    {
     "data": {
      "text/plain": [
       "44698074.06257617"
      ]
     },
     "execution_count": 68,
     "metadata": {},
     "output_type": "execute_result"
    }
   ],
   "source": [
    "np.linalg.norm(beta_ols)"
   ]
  }
 ],
 "metadata": {
  "kernelspec": {
   "display_name": "Python 3 (ipykernel)",
   "language": "python",
   "name": "python3"
  },
  "language_info": {
   "codemirror_mode": {
    "name": "ipython",
    "version": 3
   },
   "file_extension": ".py",
   "mimetype": "text/x-python",
   "name": "python",
   "nbconvert_exporter": "python",
   "pygments_lexer": "ipython3",
   "version": "3.9.13"
  }
 },
 "nbformat": 4,
 "nbformat_minor": 5
}
